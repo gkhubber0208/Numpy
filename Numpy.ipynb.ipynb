{
 "cells": [
  {
   "cell_type": "markdown",
   "metadata": {},
   "source": [
    "# NumPy - Ndarray Object"
   ]
  },
  {
   "cell_type": "code",
   "execution_count": 1,
   "metadata": {},
   "outputs": [],
   "source": [
    "import numpy as np\n",
    "import matplotlib.pyplot as plt"
   ]
  },
  {
   "cell_type": "markdown",
   "metadata": {},
   "source": [
    "# one matrix array"
   ]
  },
  {
   "cell_type": "code",
   "execution_count": 2,
   "metadata": {},
   "outputs": [
    {
     "name": "stdout",
     "output_type": "stream",
     "text": [
      "[[1 2 3]]\n"
     ]
    }
   ],
   "source": [
    "a = np.array([[1,2,3]]) \n",
    "print (a)"
   ]
  },
  {
   "cell_type": "markdown",
   "metadata": {},
   "source": [
    "# two dimension matrix array"
   ]
  },
  {
   "cell_type": "code",
   "execution_count": 4,
   "metadata": {},
   "outputs": [
    {
     "name": "stdout",
     "output_type": "stream",
     "text": [
      "[[1 2]\n",
      " [3 4]]\n"
     ]
    }
   ],
   "source": [
    "a = np.array([[1,2,],[3,4]])\n",
    "print(a)"
   ]
  },
  {
   "cell_type": "markdown",
   "metadata": {},
   "source": [
    "# three dimension matrix array"
   ]
  },
  {
   "cell_type": "code",
   "execution_count": 5,
   "metadata": {},
   "outputs": [
    {
     "name": "stdout",
     "output_type": "stream",
     "text": [
      "[[1 2]\n",
      " [3 4]\n",
      " [5 6]]\n"
     ]
    }
   ],
   "source": [
    "a = np.array([[1,2],[3,4],[5,6]])\n",
    "print(a)"
   ]
  },
  {
   "cell_type": "markdown",
   "metadata": {},
   "source": [
    "# minimum dimensions"
   ]
  },
  {
   "cell_type": "code",
   "execution_count": 3,
   "metadata": {},
   "outputs": [
    {
     "name": "stdout",
     "output_type": "stream",
     "text": [
      "[[1 2 3 4 5]]\n"
     ]
    }
   ],
   "source": [
    "a = np.array([1, 2, 3, 4, 5], ndmin=2)\n",
    "print(a)"
   ]
  },
  {
   "cell_type": "markdown",
   "metadata": {},
   "source": [
    "# dtype parameter"
   ]
  },
  {
   "cell_type": "code",
   "execution_count": 4,
   "metadata": {},
   "outputs": [
    {
     "name": "stdout",
     "output_type": "stream",
     "text": [
      "[1.+0.j 2.+0.j 3.+0.j]\n"
     ]
    }
   ],
   "source": [
    "a = np.array([1, 2, 3], dtype = complex)\n",
    "print(a)"
   ]
  },
  {
   "cell_type": "markdown",
   "metadata": {},
   "source": [
    "# NumPy - Data Types\n",
    "# using array-scalar type "
   ]
  },
  {
   "cell_type": "code",
   "execution_count": 5,
   "metadata": {},
   "outputs": [
    {
     "name": "stdout",
     "output_type": "stream",
     "text": [
      "int32\n"
     ]
    }
   ],
   "source": [
    "# dtype of array is int32 (4 byte)\n",
    "dt = np.dtype(np.int32) \n",
    "print(dt)"
   ]
  },
  {
   "cell_type": "code",
   "execution_count": 6,
   "metadata": {},
   "outputs": [
    {
     "name": "stdout",
     "output_type": "stream",
     "text": [
      "int32\n"
     ]
    }
   ],
   "source": [
    "# int8, int16, int32, int64 can be replaced by equivalent string 'i1', 'i2','i4', etc\n",
    "dt = np.dtype('i4')\n",
    "print(dt)"
   ]
  },
  {
   "cell_type": "code",
   "execution_count": 7,
   "metadata": {},
   "outputs": [
    {
     "name": "stdout",
     "output_type": "stream",
     "text": [
      ">i4\n"
     ]
    }
   ],
   "source": [
    "# using endian notation\n",
    "dt = np.dtype('>i4') \n",
    "print(dt)"
   ]
  },
  {
   "cell_type": "code",
   "execution_count": 8,
   "metadata": {},
   "outputs": [
    {
     "name": "stdout",
     "output_type": "stream",
     "text": [
      "[('age', 'i1')]\n"
     ]
    }
   ],
   "source": [
    "# fist create structured data type \n",
    "dt = np.dtype([('age', np.int8)])\n",
    "print(dt)"
   ]
  },
  {
   "cell_type": "markdown",
   "metadata": {},
   "source": [
    "#  NumPy - Array Attributes\n",
    "# ndarray.shape"
   ]
  },
  {
   "cell_type": "code",
   "execution_count": 9,
   "metadata": {},
   "outputs": [
    {
     "name": "stdout",
     "output_type": "stream",
     "text": [
      "(2, 3)\n"
     ]
    }
   ],
   "source": [
    "a = np.array([[1,2,3],[4,5,6]])\n",
    "print(a.shape)"
   ]
  },
  {
   "cell_type": "code",
   "execution_count": 14,
   "metadata": {},
   "outputs": [
    {
     "name": "stdout",
     "output_type": "stream",
     "text": [
      "[[1 2]\n",
      " [3 4]\n",
      " [5 6]]\n"
     ]
    }
   ],
   "source": [
    "# this resizes the ndarray \n",
    "a = np.array([[1,2,3],[4,5,6]]) \n",
    "a.shape = (3,2) \n",
    "print(a)"
   ]
  },
  {
   "cell_type": "code",
   "execution_count": 10,
   "metadata": {},
   "outputs": [
    {
     "name": "stdout",
     "output_type": "stream",
     "text": [
      "[[1 2]\n",
      " [3 4]\n",
      " [5 6]]\n"
     ]
    }
   ],
   "source": [
    "a = np.array([[1,2,3],[4,5,6]]) \n",
    "b = a.reshape(3,2) \n",
    "print(b)"
   ]
  },
  {
   "cell_type": "markdown",
   "metadata": {},
   "source": [
    "# ndarray.ndim: this array attribute returns the number of array dimensions"
   ]
  },
  {
   "cell_type": "code",
   "execution_count": 11,
   "metadata": {},
   "outputs": [
    {
     "name": "stdout",
     "output_type": "stream",
     "text": [
      "[ 0  1  2  3  4  5  6  7  8  9 10 11 12 13 14 15 16 17 18 19 20 21 22 23]\n"
     ]
    }
   ],
   "source": [
    "# an array of evenly spaced numbers \n",
    "a = np.arange(24)\n",
    "print(a)"
   ]
  },
  {
   "cell_type": "code",
   "execution_count": 12,
   "metadata": {},
   "outputs": [
    {
     "name": "stdout",
     "output_type": "stream",
     "text": [
      "[[[ 0  1  2]\n",
      "  [ 3  4  5]\n",
      "  [ 6  7  8]\n",
      "  [ 9 10 11]]\n",
      "\n",
      " [[12 13 14]\n",
      "  [15 16 17]\n",
      "  [18 19 20]\n",
      "  [21 22 23]]]\n"
     ]
    }
   ],
   "source": [
    "# this is one dimensional array \n",
    "a = np.arange(24)\n",
    "a.ndim\n",
    "\n",
    "# now reshape it \n",
    "b = a.reshape(2,4,3)\n",
    "print(b)\n",
    "#b is having three dimensions"
   ]
  },
  {
   "cell_type": "markdown",
   "metadata": {},
   "source": [
    "# numpy.itemsize: this array attribute returns the length of each element of array in bytes."
   ]
  },
  {
   "cell_type": "code",
   "execution_count": 13,
   "metadata": {},
   "outputs": [
    {
     "name": "stdout",
     "output_type": "stream",
     "text": [
      "1\n"
     ]
    }
   ],
   "source": [
    "# dtype of array is int8 (1 byte)\n",
    "x = np.array([1,2,3,4,5],dtype = np.int8)\n",
    "print(x.itemsize)"
   ]
  },
  {
   "cell_type": "code",
   "execution_count": 14,
   "metadata": {},
   "outputs": [
    {
     "name": "stdout",
     "output_type": "stream",
     "text": [
      "4\n"
     ]
    }
   ],
   "source": [
    "# dtype of array is int32 (4 byte)\n",
    "x = np.array([1,2,3,4,5],dtype = np.float32)\n",
    "print(x.itemsize)"
   ]
  },
  {
   "cell_type": "markdown",
   "metadata": {},
   "source": [
    "# Numpy - Array Creation Routines"
   ]
  },
  {
   "cell_type": "code",
   "execution_count": 15,
   "metadata": {},
   "outputs": [
    {
     "name": "stdout",
     "output_type": "stream",
     "text": [
      "[[1 2]\n",
      " [3 4]\n",
      " [5 6]]\n"
     ]
    }
   ],
   "source": [
    "x = np.empty([3,2], dtype = int)\n",
    "print(x)"
   ]
  },
  {
   "cell_type": "code",
   "execution_count": 16,
   "metadata": {},
   "outputs": [
    {
     "name": "stdout",
     "output_type": "stream",
     "text": [
      "[1. 1. 1. 1. 1.]\n"
     ]
    }
   ],
   "source": [
    "# array of five ones. Default dtype is float \n",
    "x = np.ones(5)\n",
    "print(x)"
   ]
  },
  {
   "cell_type": "code",
   "execution_count": 17,
   "metadata": {},
   "outputs": [
    {
     "name": "stdout",
     "output_type": "stream",
     "text": [
      "[[1 1]\n",
      " [1 1]]\n"
     ]
    }
   ],
   "source": [
    "# Datetype was float and it got change to an integer. \n",
    "x = np.ones([2,2], dtype = int)\n",
    "print(x)"
   ]
  },
  {
   "cell_type": "markdown",
   "metadata": {},
   "source": [
    "# NumPy - Array From Existing Data"
   ]
  },
  {
   "cell_type": "code",
   "execution_count": 18,
   "metadata": {},
   "outputs": [
    {
     "name": "stdout",
     "output_type": "stream",
     "text": [
      "[1 2 3]\n"
     ]
    }
   ],
   "source": [
    "# convert list to ndarray \n",
    "x = [1,2,3] \n",
    "a = np.asarray(x) \n",
    "print(a)"
   ]
  },
  {
   "cell_type": "code",
   "execution_count": 19,
   "metadata": {},
   "outputs": [
    {
     "name": "stdout",
     "output_type": "stream",
     "text": [
      "[1. 2. 3.]\n"
     ]
    }
   ],
   "source": [
    "# dtype is set\n",
    "x=[1,2,3]\n",
    "a = np.asarray(x,dtype = float)\n",
    "print(a)"
   ]
  },
  {
   "cell_type": "code",
   "execution_count": 20,
   "metadata": {},
   "outputs": [
    {
     "name": "stdout",
     "output_type": "stream",
     "text": [
      "[1 2 3]\n"
     ]
    }
   ],
   "source": [
    "# ndarray from tuple\n",
    "x=(1,2,3)\n",
    "a = np.asarray(x)\n",
    "print(a)"
   ]
  },
  {
   "cell_type": "code",
   "execution_count": 21,
   "metadata": {},
   "outputs": [
    {
     "name": "stdout",
     "output_type": "stream",
     "text": [
      "[(1, 2, 3) (4, 5)]\n"
     ]
    }
   ],
   "source": [
    "# ndarray from list of tuples\n",
    "x = [(1,2,3),(4,5)] \n",
    "a = np.asarray(x) \n",
    "print(a)"
   ]
  },
  {
   "cell_type": "markdown",
   "metadata": {},
   "source": [
    "# numpy.fromiter"
   ]
  },
  {
   "cell_type": "code",
   "execution_count": 22,
   "metadata": {},
   "outputs": [
    {
     "name": "stdout",
     "output_type": "stream",
     "text": [
      "range(0, 5)\n"
     ]
    }
   ],
   "source": [
    "# create list object using range function \n",
    "list = range(5) \n",
    "print(list)"
   ]
  },
  {
   "cell_type": "code",
   "execution_count": 23,
   "metadata": {},
   "outputs": [
    {
     "name": "stdout",
     "output_type": "stream",
     "text": [
      "[0. 1. 2. 3. 4.]\n"
     ]
    }
   ],
   "source": [
    "# obtain iterator object from list \n",
    "mylist = range(5) \n",
    "it = iter(mylist)  \n",
    "\n",
    "# use iterator to create ndarray \n",
    "x = np.fromiter(it, dtype = float) \n",
    "print(x)"
   ]
  },
  {
   "cell_type": "markdown",
   "metadata": {},
   "source": [
    "# Zeros"
   ]
  },
  {
   "cell_type": "code",
   "execution_count": 24,
   "metadata": {},
   "outputs": [
    {
     "data": {
      "text/plain": [
       "array([[0., 0., 0.],\n",
       "       [0., 0., 0.],\n",
       "       [0., 0., 0.]])"
      ]
     },
     "execution_count": 24,
     "metadata": {},
     "output_type": "execute_result"
    }
   ],
   "source": [
    "np.zeros((3, 3))# 3x3 matrix "
   ]
  },
  {
   "cell_type": "code",
   "execution_count": 25,
   "metadata": {},
   "outputs": [
    {
     "data": {
      "text/plain": [
       "array([[1., 1., 1., 1.],\n",
       "       [1., 1., 1., 1.]])"
      ]
     },
     "execution_count": 25,
     "metadata": {},
     "output_type": "execute_result"
    }
   ],
   "source": [
    "np.ones((2, 4)) # 2x3 matrix"
   ]
  },
  {
   "cell_type": "code",
   "execution_count": 26,
   "metadata": {},
   "outputs": [
    {
     "name": "stdout",
     "output_type": "stream",
     "text": [
      "[0 1 2 3 4 5]\n"
     ]
    }
   ],
   "source": [
    "x = np.arange(6)\n",
    "print(x)"
   ]
  },
  {
   "cell_type": "code",
   "execution_count": 27,
   "metadata": {},
   "outputs": [
    {
     "name": "stdout",
     "output_type": "stream",
     "text": [
      "x [[0 1 2]\n",
      " [3 4 5]]\n",
      "\n",
      " (2, 3)\n"
     ]
    }
   ],
   "source": [
    "#this will convert the range in to matrix.\n",
    "x = np.reshape(x,(-1,3))\n",
    "print(\"x\", x)\n",
    "\n",
    "#this will print the shape of the matrix.\n",
    "print(\"\\n\",x.shape)"
   ]
  },
  {
   "cell_type": "code",
   "execution_count": 28,
   "metadata": {},
   "outputs": [
    {
     "name": "stdout",
     "output_type": "stream",
     "text": [
      "z [[0 0 0]\n",
      " [0 0 0]]\n",
      "\n",
      " (2, 3)\n"
     ]
    }
   ],
   "source": [
    "# converting the value in to zeros.\n",
    "z = np.zeros_like(x)\n",
    "print(\"z\", z)\n",
    "print(\"\\n\",x.shape)"
   ]
  },
  {
   "cell_type": "code",
   "execution_count": 29,
   "metadata": {},
   "outputs": [
    {
     "name": "stdout",
     "output_type": "stream",
     "text": [
      "z [[0. 0. 0.]\n",
      " [0. 0. 0.]]\n"
     ]
    }
   ],
   "source": [
    "# our function is 0 to shape into datatype.\n",
    "z = np.zeros(x.shape, dtype=np.float)\n",
    "print(\"z\", z)"
   ]
  },
  {
   "cell_type": "code",
   "execution_count": 30,
   "metadata": {},
   "outputs": [
    {
     "name": "stdout",
     "output_type": "stream",
     "text": [
      "\n",
      " [['1' '2']\n",
      " ['4' '5']]\n",
      "\n",
      " [[1. 2.]\n",
      " [4. 5.]]\n"
     ]
    }
   ],
   "source": [
    "z = np.array([[1,2],[4,5]], dtype=np.str)\n",
    "print(\"\\n\",z)\n",
    "\n",
    "z = z.astype(np.float)\n",
    "print(\"\\n\",z)"
   ]
  },
  {
   "cell_type": "code",
   "execution_count": 31,
   "metadata": {},
   "outputs": [
    {
     "name": "stdout",
     "output_type": "stream",
     "text": [
      "[ 0  3  6  9 12 15 18]\n"
     ]
    }
   ],
   "source": [
    "a = np.arange(0,20,3)\n",
    "print(a)"
   ]
  },
  {
   "cell_type": "code",
   "execution_count": 32,
   "metadata": {},
   "outputs": [
    {
     "name": "stdout",
     "output_type": "stream",
     "text": [
      "[ 0  5 10 15 20 25 30 35 40 45]\n"
     ]
    }
   ],
   "source": [
    "a = 5*np.arange(10)\n",
    "print(a)"
   ]
  },
  {
   "cell_type": "code",
   "execution_count": 33,
   "metadata": {},
   "outputs": [
    {
     "name": "stdout",
     "output_type": "stream",
     "text": [
      "[15 25 35]\n"
     ]
    }
   ],
   "source": [
    "print(a[3:-2:2])# slicing"
   ]
  },
  {
   "cell_type": "code",
   "execution_count": 34,
   "metadata": {},
   "outputs": [
    {
     "name": "stdout",
     "output_type": "stream",
     "text": [
      "[ 0.          0.52631579  1.05263158  1.57894737  2.10526316  2.63157895\n",
      "  3.15789474  3.68421053  4.21052632  4.73684211  5.26315789  5.78947368\n",
      "  6.31578947  6.84210526  7.36842105  7.89473684  8.42105263  8.94736842\n",
      "  9.47368421 10.        ]\n"
     ]
    }
   ],
   "source": [
    "ln = np.linspace(0,10,20)\n",
    "print(ln)"
   ]
  },
  {
   "cell_type": "code",
   "execution_count": 35,
   "metadata": {},
   "outputs": [
    {
     "name": "stdout",
     "output_type": "stream",
     "text": [
      "[[1 2 5]\n",
      " [3 4 6]]\n",
      "\n",
      " [1 4 6]\n",
      "\n",
      " [3 2 5]\n"
     ]
    }
   ],
   "source": [
    "a = np.array([[1,2,5],[3,4,6]])\n",
    "print(a)\n",
    "\n",
    "print(\"\\n\",a[[0,1,1], [0,1,2]])\n",
    "print(\"\\n\",a[[1,0,0],[0,1,2]])\n"
   ]
  },
  {
   "cell_type": "markdown",
   "metadata": {},
   "source": [
    "# 4/25/2019"
   ]
  },
  {
   "cell_type": "code",
   "execution_count": 36,
   "metadata": {},
   "outputs": [
    {
     "name": "stdout",
     "output_type": "stream",
     "text": [
      "[[1 2 5]\n",
      " [3 4 6]\n",
      " [7 8 9]]\n",
      "\n",
      " [5 4 9]\n",
      "\n",
      " [2 3 8]\n",
      "\n",
      " [1 6 7]\n"
     ]
    }
   ],
   "source": [
    "# indexing \n",
    "a = np.array([[1,2,5],[3,4,6],[7,8,9]])\n",
    "print(a)\n",
    "\n",
    "print(\"\\n\",a[[0,1,2],[2,1,2]])\n",
    "print(\"\\n\",a[[0,1,2],[1,0,1]])\n",
    "print(\"\\n\",a[[0,1,2],[0,2,0]])"
   ]
  },
  {
   "cell_type": "code",
   "execution_count": 37,
   "metadata": {
    "scrolled": true
   },
   "outputs": [
    {
     "name": "stdout",
     "output_type": "stream",
     "text": [
      "[[1 2 5]\n",
      " [3 4 6]\n",
      " [7 8 9]]\n",
      "\n",
      " [4 6]\n",
      "\n",
      " [2 8]\n",
      "\n",
      " [1 9]\n"
     ]
    }
   ],
   "source": [
    "a = np.array([[1,2,5],[3,4,6],[7,8,9]])\n",
    "print(a)\n",
    "\n",
    "print(\"\\n\",a[[1,1],[1,2]])\n",
    "print(\"\\n\",a[[0,2],[1,1]])\n",
    "print(\"\\n\",a[[0,2],[0,2]])"
   ]
  },
  {
   "cell_type": "code",
   "execution_count": 38,
   "metadata": {},
   "outputs": [
    {
     "name": "stdout",
     "output_type": "stream",
     "text": [
      "[[1 2 5]\n",
      " [3 4 6]\n",
      " [7 8 9]]\n",
      "\n",
      " [[False False  True]\n",
      " [False False  True]\n",
      " [ True  True  True]]\n",
      "\n",
      " [5 6 7 8 9]\n"
     ]
    }
   ],
   "source": [
    "a = np.array([[1,2,5],[3,4,6],[7,8,9]])\n",
    "print(a)\n",
    "\n",
    "print(\"\\n\",a > 4)# this will print true and false value.\n",
    "\n",
    "print(\"\\n\",a[a > 4])"
   ]
  },
  {
   "cell_type": "code",
   "execution_count": 39,
   "metadata": {},
   "outputs": [
    {
     "name": "stdout",
     "output_type": "stream",
     "text": [
      "[[1 2 5]\n",
      " [3 4 6]\n",
      " [7 8 9]]\n",
      "\n",
      " [[ True  True False]\n",
      " [ True  True False]\n",
      " [False False False]]\n",
      "\n",
      " [1 2 3 4]\n"
     ]
    }
   ],
   "source": [
    "a = np.array([[1,2,5],[3,4,6],[7,8,9]])\n",
    "print(a)\n",
    "\n",
    "print(\"\\n\",a <= 4)\n",
    "\n",
    "print(\"\\n\",a[a <= 4])"
   ]
  },
  {
   "cell_type": "markdown",
   "metadata": {},
   "source": [
    "# example"
   ]
  },
  {
   "cell_type": "code",
   "execution_count": 43,
   "metadata": {},
   "outputs": [
    {
     "name": "stdout",
     "output_type": "stream",
     "text": [
      "\n",
      " [ 0  1  2  3  4  5  6  7  8  9 10 11 12 13 14 15 16 17 18 19]\n",
      "\n",
      " [ 5  6  7  8  9 10 11 12 13 14 15]\n",
      "\n",
      " [ 4  6  8 10 12 14]\n",
      "\n",
      " (5, 4)\n",
      "\n",
      " x [[ 0  1  2  3]\n",
      " [ 4  5  6  7]\n",
      " [ 8  9 10 11]\n",
      " [12 13 14 15]\n",
      " [16 17 18 19]]\n",
      "\n",
      " [12 16  5]\n",
      "\n",
      " [[False False False False]\n",
      " [False False False False]\n",
      " [False False False  True]\n",
      " [ True  True  True  True]\n",
      " [ True  True  True  True]]\n",
      "\n",
      " [11 12 13 14 15 16 17 18 19]\n"
     ]
    }
   ],
   "source": [
    "# step 1\n",
    "x = np.arange(20)\n",
    "print(\"\\n\",x)\n",
    "\n",
    "# step 2 slice(slicing)\n",
    "print(\"\\n\",x[5:16:])\n",
    "\n",
    "# step 3\n",
    "print(\"\\n\",x[4:-5:2])\n",
    "\n",
    "#step 4\n",
    "x = np.reshape(x,(5,4))\n",
    "print(\"\\n\",x.shape)\n",
    "print(\"\\n\",\"x\", x)\n",
    "\n",
    "# step 5 (indexing)\n",
    "print(\"\\n\",x[[3,4,1],[0,0,1]])\n",
    "\n",
    "# step 6\n",
    "print(\"\\n\",x > 10)\n",
    "print(\"\\n\",x[x > 10])"
   ]
  },
  {
   "cell_type": "code",
   "execution_count": 48,
   "metadata": {},
   "outputs": [
    {
     "name": "stdout",
     "output_type": "stream",
     "text": [
      "\n",
      " [[40 60]]\n",
      "\n",
      " [[-20 -20]]\n",
      "\n",
      " [[300 800]]\n",
      "\n",
      " [[0.33333333 0.5       ]]\n"
     ]
    }
   ],
   "source": [
    "a = np.array([[10,20]])\n",
    "b = np.array([[30,40]])\n",
    "\n",
    "print(\"\\n\",a+b)#add. \n",
    "print(\"\\n\",a-b)#subtract.\n",
    "print(\"\\n\",a*b)#Multiply.\n",
    "print(\"\\n\",a/b)#divide."
   ]
  },
  {
   "cell_type": "code",
   "execution_count": 49,
   "metadata": {},
   "outputs": [
    {
     "name": "stdout",
     "output_type": "stream",
     "text": [
      "[[ 2  6]\n",
      " [12 20]]\n",
      "\n",
      " [[10 13]\n",
      " [22 29]]\n"
     ]
    }
   ],
   "source": [
    "a = np.array([[1,2],[3,4]])\n",
    "b = np.array([[2,3],[4,5]])\n",
    "\n",
    "print(a*b)#Multiplication of a and b\n",
    "print(\"\\n\",np.dot(a,b))# Multiplication Matrix of a and b."
   ]
  },
  {
   "cell_type": "code",
   "execution_count": 46,
   "metadata": {},
   "outputs": [
    {
     "name": "stdout",
     "output_type": "stream",
     "text": [
      "[[1 4]\n",
      " [3 8]]\n"
     ]
    }
   ],
   "source": [
    "a = np.array([[1,2],[3,4]])\n",
    "b = np.array([1,2])\n",
    "print(a*b)#Multiplication of a and b.\n"
   ]
  },
  {
   "cell_type": "code",
   "execution_count": 50,
   "metadata": {},
   "outputs": [
    {
     "name": "stdout",
     "output_type": "stream",
     "text": [
      "[[1 3]\n",
      " [2 4]]\n",
      "\n",
      " [[1 3]\n",
      " [4 8]]\n"
     ]
    }
   ],
   "source": [
    "a = np.array([[1,3],[2,4]])# 2X2 matrix.\n",
    "print(a)\n",
    "b = np.array([[1],[2]])# 1x1 matrix. \n",
    "print(\"\\n\",a*b)"
   ]
  },
  {
   "cell_type": "code",
   "execution_count": 51,
   "metadata": {},
   "outputs": [
    {
     "name": "stdout",
     "output_type": "stream",
     "text": [
      "x [1 2 3]\n",
      "\n",
      " y [1 2 3]\n",
      "\n",
      " new y [ 1 10  3]\n",
      "\n",
      " x [1 2 3]\n"
     ]
    }
   ],
   "source": [
    "x = np.array([1,2,3])\n",
    "print(\"x\",x)\n",
    "y = x.copy()\n",
    "print(\"\\n\",\"y\",y)\n",
    "y[1] = 10\n",
    "print(\"\\n\",\"new y\",y)\n",
    "print(\"\\n\",\"x\",x)"
   ]
  },
  {
   "cell_type": "code",
   "execution_count": 52,
   "metadata": {},
   "outputs": [
    {
     "name": "stdout",
     "output_type": "stream",
     "text": [
      "\n",
      " [[1 2 3]\n",
      " [4 5 6]\n",
      " [7 8 9]]\n",
      "\n",
      " [[10]\n",
      " [11]\n",
      " [12]]\n",
      "\n",
      " [[ 10  20  30]\n",
      " [ 44  55  66]\n",
      " [ 84  96 108]]\n",
      "\n",
      " [[11 12 13]\n",
      " [15 16 17]\n",
      " [19 20 21]]\n",
      "\n",
      " [[-9 -8 -7]\n",
      " [-7 -6 -5]\n",
      " [-5 -4 -3]]\n"
     ]
    }
   ],
   "source": [
    "# broadcasting\n",
    "y = np.array([[1,2,3],[4,5,6],[7,8,9]])\n",
    "z = np.array([[10],[11],[12]])\n",
    "print(\"\\n\",y)\n",
    "print(\"\\n\",z)\n",
    "\n",
    "print(\"\\n\",y*z)\n",
    "print(\"\\n\",y+z)\n",
    "print(\"\\n\",y-z)"
   ]
  },
  {
   "cell_type": "code",
   "execution_count": 53,
   "metadata": {},
   "outputs": [
    {
     "name": "stdout",
     "output_type": "stream",
     "text": [
      "\n",
      " [[  8  18  30  44]\n",
      " [ 65  84 105 192]]\n",
      "\n",
      " [[ 9 11 13 15]\n",
      " [18 20 22 28]]\n",
      "\n",
      " [[-7 -7 -7 -7]\n",
      " [-8 -8 -8 -4]]\n"
     ]
    }
   ],
   "source": [
    "a = np.array([[1,2,3,4],[5,6,7,12]])\n",
    "c = np.array([[8,9,10,11],[13,14,15,16]])\n",
    "\n",
    "print(\"\\n\", a*c)\n",
    "print(\"\\n\", a+c)\n",
    "print(\"\\n\", a-c)"
   ]
  },
  {
   "cell_type": "code",
   "execution_count": 54,
   "metadata": {},
   "outputs": [
    {
     "name": "stdout",
     "output_type": "stream",
     "text": [
      "[[ 1  2  3  4]\n",
      " [ 5  6  7 12]]\n",
      "\n",
      " [ 1  2  3  4  5  6  7 12]\n"
     ]
    }
   ],
   "source": [
    "a = np.array([[1,2,3,4],[5,6,7,12]])\n",
    "print(a)\n",
    "a = a.flatten()#this will put the 2x4 in single line. \n",
    "print(\"\\n\",a)"
   ]
  },
  {
   "cell_type": "code",
   "execution_count": 55,
   "metadata": {},
   "outputs": [
    {
     "name": "stdout",
     "output_type": "stream",
     "text": [
      "[[1 2]\n",
      " [3 4]\n",
      " [5 6]]\n",
      "[[1 3 5]\n",
      " [2 4 6]]\n"
     ]
    }
   ],
   "source": [
    "a = np.array([[1,2],[3,4],[5,6]])\n",
    "print(a)\n",
    "a = a.transpose()# this will change the size of the matrix from 2x3 to 3x2.  \n",
    "print(a)"
   ]
  },
  {
   "cell_type": "code",
   "execution_count": 56,
   "metadata": {},
   "outputs": [
    {
     "name": "stdout",
     "output_type": "stream",
     "text": [
      "[[1 2]\n",
      " [3 4]]\n",
      "[[5 6]\n",
      " [7 8]]\n",
      "c [[[1 2]\n",
      "  [3 4]]\n",
      "\n",
      " [[5 6]\n",
      "  [7 8]]]\n",
      "\n",
      " (2, 2, 2)\n"
     ]
    }
   ],
   "source": [
    "a = np.array([[1,2],[3,4]]) \n",
    "b = np.array([[5,6],[7,8]]) \n",
    "print(a)\n",
    "print(b)\n",
    "c = np.stack((a,b))\n",
    "print(\"c\", c) # 3 dimensions.\n",
    "print(\"\\n\",c.shape)"
   ]
  },
  {
   "cell_type": "code",
   "execution_count": 53,
   "metadata": {},
   "outputs": [
    {
     "name": "stdout",
     "output_type": "stream",
     "text": [
      "[[1 2]\n",
      " [3 4]]\n",
      "[[5 6]\n",
      " [7 8]]\n",
      "c [[1 2]\n",
      " [3 4]\n",
      " [5 6]\n",
      " [7 8]]\n"
     ]
    }
   ],
   "source": [
    "a = np.array([[1,2],[3,4]]) \n",
    "b = np.array([[5,6],[7,8]]) \n",
    "print(a)\n",
    "print(b)\n",
    "c = np.vstack((a,b))#this will convert a and b matrix to one vertical matrix.\n",
    "print(\"c\", c)"
   ]
  },
  {
   "cell_type": "code",
   "execution_count": 54,
   "metadata": {},
   "outputs": [
    {
     "name": "stdout",
     "output_type": "stream",
     "text": [
      "[[1 2]\n",
      " [3 4]]\n",
      "[[5 6]\n",
      " [7 8]]\n",
      "c [[1 2 5 6]\n",
      " [3 4 7 8]]\n"
     ]
    }
   ],
   "source": [
    "a = np.array([[1,2],[3,4]]) \n",
    "b = np.array([[5,6],[7,8]]) \n",
    "print(a)\n",
    "print(b)\n",
    "c = np.hstack((a,b))#this will convert a vertical matrix to horizontal stack matrix. \n",
    "print(\"c\", c)"
   ]
  },
  {
   "cell_type": "code",
   "execution_count": 55,
   "metadata": {},
   "outputs": [
    {
     "name": "stdout",
     "output_type": "stream",
     "text": [
      "[[1 2]\n",
      " [3 4]]\n",
      "[[5 6]\n",
      " [7 8]]\n",
      "c [[1 2]\n",
      " [3 4]\n",
      " [5 6]\n",
      " [7 8]]\n"
     ]
    }
   ],
   "source": [
    "a = np.array([[1,2],[3,4]]) # 2x2\n",
    "b = np.array([[5,6],[7,8]]) # 2x2\n",
    "print(a)\n",
    "print(b)\n",
    "c = np.concatenate((a,b))\n",
    "print(\"c\", c)"
   ]
  },
  {
   "cell_type": "code",
   "execution_count": 56,
   "metadata": {},
   "outputs": [
    {
     "name": "stdout",
     "output_type": "stream",
     "text": [
      "[[1 2]\n",
      " [3 4]]\n",
      "[[5 6]\n",
      " [7 8]]\n",
      "c [[1 2 5 6]\n",
      " [3 4 7 8]]\n"
     ]
    }
   ],
   "source": [
    "a = np.array([[1,2],[3,4]]) \n",
    "b = np.array([[5,6],[7,8]]) \n",
    "print(a)\n",
    "print(b)\n",
    "c = np.concatenate((a,b), axis=1)# concatenation used 1 as horizontal matrix, 0 as vertical matrix.connect the two arrays.\n",
    "print(\"c\", c)"
   ]
  },
  {
   "cell_type": "code",
   "execution_count": 57,
   "metadata": {},
   "outputs": [
    {
     "name": "stdout",
     "output_type": "stream",
     "text": [
      "[0 1 2 3 4 5 6 7 8]\n",
      "[array([0, 1, 2]), array([3]), array([4, 5, 6]), array([7, 8])]\n"
     ]
    }
   ],
   "source": [
    "a = np.arange(9) \n",
    "print(a)\n",
    "b = np.split(a,[3,4,7])# this how we can split the a range. \n",
    "print(b)"
   ]
  },
  {
   "cell_type": "code",
   "execution_count": 58,
   "metadata": {},
   "outputs": [
    {
     "name": "stdout",
     "output_type": "stream",
     "text": [
      "[[1 2]\n",
      " [3 4]]\n",
      "[[5 6]\n",
      " [7 8]]\n",
      "[[1 2 5 6]\n",
      " [3 4 7 8]]\n"
     ]
    }
   ],
   "source": [
    "a = np.array([[1,2],[3,4]]) \n",
    "b = np.array([[5,6],[7,8]]) \n",
    "print(a)\n",
    "print(b)\n",
    "c = np.append(a,b, axis=1)# \n",
    "print(c)"
   ]
  },
  {
   "cell_type": "markdown",
   "metadata": {},
   "source": [
    "# 4/26/2019 "
   ]
  },
  {
   "cell_type": "code",
   "execution_count": 57,
   "metadata": {},
   "outputs": [
    {
     "name": "stdout",
     "output_type": "stream",
     "text": [
      "[0.         0.5        0.70710678 0.8660254  1.        ]\n",
      "[1.00000000e+00 8.66025404e-01 7.07106781e-01 5.00000000e-01\n",
      " 6.12323400e-17]\n"
     ]
    }
   ],
   "source": [
    "a = np.array([0,30,45,60,90]) \n",
    "\n",
    "print(np.sin(a*np.pi/180))\n",
    "print(np.cos(a*np.pi/180))"
   ]
  },
  {
   "cell_type": "code",
   "execution_count": 58,
   "metadata": {},
   "outputs": [
    {
     "name": "stdout",
     "output_type": "stream",
     "text": [
      "[  1.    5.6 123.    0.6  25.5]\n"
     ]
    }
   ],
   "source": [
    "a = np.array([1.0,5.55, 123, 0.567, 25.532]) \n",
    "\n",
    "print(np.around(a, decimals=1))"
   ]
  },
  {
   "cell_type": "code",
   "execution_count": 59,
   "metadata": {},
   "outputs": [
    {
     "name": "stdout",
     "output_type": "stream",
     "text": [
      "[0 1 2 3 4 5 6 7 8]\n",
      "[  0   1   8  27  64 125 216 343 512]\n",
      "[  0   1   8  27  64 125 216 343 512]\n"
     ]
    }
   ],
   "source": [
    "a = np.arange(9)\n",
    "print(a)\n",
    "print(np.power(a, 3))# power function. \n",
    "print(a**3)# power function."
   ]
  },
  {
   "cell_type": "code",
   "execution_count": 60,
   "metadata": {},
   "outputs": [
    {
     "name": "stdout",
     "output_type": "stream",
     "text": [
      "[ 0 -1 -2 -3 -4 -5 -6 -7 -8]\n",
      "[0 1 2 3 4 5 6 7 8]\n"
     ]
    }
   ],
   "source": [
    "a = -1*np.arange(9)\n",
    "print(a)\n",
    "print(np.abs(a))# all the negative becomes positive. "
   ]
  },
  {
   "cell_type": "code",
   "execution_count": 64,
   "metadata": {},
   "outputs": [
    {
     "name": "stdout",
     "output_type": "stream",
     "text": [
      "[[3 7 5]\n",
      " [8 4 3]\n",
      " [2 4 9]]\n",
      "2\n",
      "[2 4 3]\n",
      "[3 3 2]\n",
      "9\n",
      "[8 7 9]\n",
      "[7 8 9]\n"
     ]
    }
   ],
   "source": [
    "a = np.array([[3,7,5],[8,4,3],[2,4,9]]) \n",
    "print(a)\n",
    "\n",
    "print(np.amin(a))# minimum value in the Matrix. \n",
    "print(np.amin(a, 0))# minimum value by row.\n",
    "print(np.amin(a, 1))# minimum value by Col.\n",
    "\n",
    "print(np.amax(a)) # maximum value in the Matrix. \n",
    "print(np.amax(a, 0))# maximum value by row.\n",
    "print(np.amax(a, 1))#maximum value by Col."
   ]
  },
  {
   "cell_type": "code",
   "execution_count": 67,
   "metadata": {},
   "outputs": [
    {
     "name": "stdout",
     "output_type": "stream",
     "text": [
      "[[30 65 70]\n",
      " [80 95 10]\n",
      " [50 90 60]]\n",
      "\n",
      " 61.111111111111114\n",
      "\n",
      " [53.33333333 83.33333333 46.66666667]\n",
      "\n",
      " [55.         61.66666667 66.66666667]\n"
     ]
    }
   ],
   "source": [
    "a = np.array([[30,65,70],[80,95,10],[50,90,60]]) \n",
    "\n",
    "print(a)\n",
    "print(\"\\n\",np.mean(a))# mean of the matrix.\n",
    "print(\"\\n\",np.mean(a, axis=0))# mean of the matrix by rows. \n",
    "print(\"\\n\",np.mean(a, axis=1))# mean of the matrix by col."
   ]
  },
  {
   "cell_type": "code",
   "execution_count": 68,
   "metadata": {},
   "outputs": [
    {
     "name": "stdout",
     "output_type": "stream",
     "text": [
      "[[30 65 70]\n",
      " [80 95 10]\n",
      " [50 90 60]]\n",
      "\n",
      " 65.0\n",
      "\n",
      " [50. 90. 60.]\n",
      "\n",
      " [65. 80. 60.]\n"
     ]
    }
   ],
   "source": [
    "a = np.array([[30,65,70],[80,95,10],[50,90,60]]) \n",
    "\n",
    "print(a)\n",
    "print(\"\\n\",np.median(a))# median value of whole array. \n",
    "print(\"\\n\",np.median(a, axis=0))# median of the matrix by rows.\n",
    "print(\"\\n\",np.median(a, axis=1))# median of the matrix by col."
   ]
  },
  {
   "cell_type": "code",
   "execution_count": null,
   "metadata": {},
   "outputs": [],
   "source": [
    "a = np.arange(10)\n",
    "print(a)\n",
    "print(\"\\n\",np.std(a))\n",
    "print(np.var(a))"
   ]
  },
  {
   "cell_type": "code",
   "execution_count": null,
   "metadata": {},
   "outputs": [],
   "source": [
    "a = np.array([[3,7],[9,1]]) \n",
    "\n",
    "print(a)\n",
    "print(np.sort(a))# sorting the matrix\n",
    "print(np.sort(a,axis=0))# sorting the matrix by row.\n",
    "print(np.sort(a, axis=1))# sorting the matrix by col."
   ]
  },
  {
   "cell_type": "code",
   "execution_count": null,
   "metadata": {},
   "outputs": [],
   "source": [
    "a = np.array([[30,40,70],[80,20,10],[50,90,60]]) \n",
    "\n",
    "print(a)\n",
    "print(a.flatten())# this wil put the matrix in one row. \n",
    "print(np.argmax(a)) # argument maximum. \n",
    "\n",
    "print(np.argmax(a, axis=0)) # argument maximum horizontal. \n",
    "print(np.argmax(a, axis=1)) # argument maximum vertical. "
   ]
  },
  {
   "cell_type": "code",
   "execution_count": null,
   "metadata": {},
   "outputs": [],
   "source": [
    "a = np.array([[30,40,70],[80,20,10],[50,90,60]]) \n",
    "\n",
    "print(a)\n",
    "print(a.flatten())# this wil put the matrix in one row. \n",
    "print(np.argmin(a))\n",
    "\n",
    "print(np.argmin(a, axis=0)) # argument maximum horizontal. \n",
    "print(np.argmin(a, axis=1)) # argument maximum vertical. "
   ]
  },
  {
   "cell_type": "code",
   "execution_count": null,
   "metadata": {},
   "outputs": [],
   "source": [
    "x = np.arange(9.).reshape(3, 3) \n",
    "\n",
    "print(x)\n",
    "print(x[x>3])\n",
    "\n",
    "print(np.where(x>3))"
   ]
  },
  {
   "cell_type": "code",
   "execution_count": null,
   "metadata": {},
   "outputs": [],
   "source": [
    "x = np.array([[10,20,30],[40,50,60],[70,80,90]])\n",
    "print(x)\n",
    "\n",
    "#using sin \n",
    "print(\"\\n\",np.sin(x*np.pi/180))\n",
    "#using cos\n",
    "print(\"\\n\",np.cos(x*np.pi/180))\n",
    "# around function\n",
    "print(\"\\n\",np.around(x, decimals=1))\n",
    "#power function \n",
    "print(\"\\n\",np.power(x, 3))\n",
    "# abs function\n",
    "print(\"\\n\",np.abs(x))\n",
    "\n",
    "print(\"\\n\",np.amin(x))# minimum value in the Matrix. \n",
    "print(\"\\n\",np.amin(x, 0))# minimum value by row.\n",
    "print(np.amin(x, 1))# minimum value by Col.\n",
    "\n",
    "print(\"\\n\",np.amax(x)) # maximum value in the Matrix. \n",
    "print(\"\\n\",np.amax(x, 0))# maximum value by row.\n",
    "print(np.amax(x, 1))#maximum value by Col.\n",
    "\n",
    "print(\"\\n\",x)\n",
    "print(np.mean(x))# mean of the matrix.\n",
    "print(\"\\n\",np.mean(x, axis=0))# mean of the matrix by rows. \n",
    "print(\"\\n\",np.mean(x, axis=1))# mean of the matrix by col.\n",
    "\n",
    "print(\"\\n\",np.std(a))\n",
    "print(\"\\n\",np.var(a))\n",
    "\n",
    "print(\"\\n\",np.sort(x))# sorting the matrix\n",
    "print(\"\\n\",np.sort(x,axis=0))# sorting the matrix by row.\n",
    "print(\"\\n\",np.sort(x, axis=1))# sorting the matrix by col.\n",
    "\n",
    "print(\"\\n\",x.flatten())# this wil put the matrix in one row. \n",
    "print(\"\\n\",np.argmax(x))# indexing for maximum values. \n",
    "\n",
    "print(\"\\n\",np.argmax(x, axis=0))# return the agrument(index)\n",
    "print(\"\\n\",np.argmax(x, axis=1))\n",
    "\n",
    "print(\"\\n\",np.argmin(x))#indexing for minimum values\n",
    "\n",
    "print(\"\\n\",np.argmin(x, axis=0))\n",
    "print(\"\\n\",np.argmin(x, axis=1))\n",
    "\n",
    "print(\"\\n\",x[x>5])\n",
    "\n",
    "print(\"\\n\",np.where(x>5))"
   ]
  },
  {
   "cell_type": "markdown",
   "metadata": {},
   "source": [
    "# matplotLib"
   ]
  },
  {
   "cell_type": "code",
   "execution_count": null,
   "metadata": {},
   "outputs": [],
   "source": [
    "from matplotlib import pyplot as plt"
   ]
  },
  {
   "cell_type": "code",
   "execution_count": null,
   "metadata": {},
   "outputs": [],
   "source": [
    "x = np.arange(10)\n",
    "y = 2*x + 1\n",
    "\n",
    "print(x)\n",
    "print(y)\n",
    "\n",
    "plt.plot(x,y, \"hk\")# ploting x and y values.\n",
    "plt.title(\"Our plot\")# ploting title.\n",
    "plt.xlabel(\"X val\")# ploting x label\n",
    "plt.ylabel(\"Y val\")# ploting y labels\n",
    "plt.show()"
   ]
  },
  {
   "cell_type": "code",
   "execution_count": null,
   "metadata": {},
   "outputs": [],
   "source": [
    "x = np.arange(-3*np.pi, 3 * np.pi, 0.1) \n",
    "y = np.sign(x)# using sign function. \n",
    "\n",
    "print(x)\n",
    "print(y)\n",
    "\n",
    "plt.plot(x,y)# ploting x and y.\n",
    "plt.title(\"sin wave\")# ploting title.\n",
    "plt.xlabel(\"X val\")# ploting x label\n",
    "plt.ylabel(\"sine val\")# ploting y label\n",
    "plt.show()"
   ]
  },
  {
   "cell_type": "code",
   "execution_count": null,
   "metadata": {},
   "outputs": [],
   "source": [
    "x = np.arange(-3*np.pi, 3 * np.pi, 0.1) \n",
    "y1 = np.sin(x)# using sin function.\n",
    "y2 = np.cos(x)# using cos function.\n",
    "\n",
    "plt.subplot(2,1,1)# subploting.\n",
    "plt.plot(x,y1)\n",
    "plt.title(\"sine plot\")# ploting sine\n",
    "\n",
    "plt.subplot(2,1,2)\n",
    "plt.plot(x,y2)\n",
    "plt.title(\"cos plot\")# ploting cos \n",
    "\n",
    "plt.show()"
   ]
  },
  {
   "cell_type": "code",
   "execution_count": null,
   "metadata": {},
   "outputs": [],
   "source": [
    "x = np.arange(0, 3 * np.pi, 0.1) \n",
    "y1 = np.sin(x)# using sin function \n",
    "y2 = np.cos(x)# using cos function \n",
    "y3 = np.sinh(x)# using singh function \n",
    "y4 = np.cosh(x)# usingh cosh function\n",
    "\n",
    "plt.subplot(2,2,1)\n",
    "plt.plot(x,y1)\n",
    "plt.title(\"sine plot\")\n",
    "\n",
    "plt.subplot(2,2,2)\n",
    "plt.plot(x,y2)\n",
    "plt.title(\"cos plot\")\n",
    "\n",
    "plt.subplot(2,2,3)\n",
    "plt.plot(x,y3)\n",
    "plt.title(\"sinh plot\")\n",
    "\n",
    "plt.subplot(2,2,4)\n",
    "plt.plot(x,y4)\n",
    "plt.title(\"cosh plot\")\n",
    "\n",
    "\n",
    "plt.show()"
   ]
  },
  {
   "cell_type": "code",
   "execution_count": 40,
   "metadata": {},
   "outputs": [
    {
     "data": {
      "text/plain": [
       "Text(0.5,1,'Bar graph')"
      ]
     },
     "execution_count": 40,
     "metadata": {},
     "output_type": "execute_result"
    },
    {
     "data": {
      "image/png": "[encoded data removed]",
      "text/plain": [
       "<Figure size 432x288 with 1 Axes>"
      ]
     },
     "metadata": {
      "needs_background": "light"
     },
     "output_type": "display_data"
    }
   ],
   "source": [
    "x = [5,8,10]# \n",
    "y = [12,16,6]  \n",
    "\n",
    "x2 = [6,9,11] \n",
    "y2 = [6,15,7] \n",
    "plt.bar(x, y, color='r',align = 'center') \n",
    "plt.bar(x2, y2, color = 'g', align = 'center') \n",
    "plt.title('Bar graph') "
   ]
  },
  {
   "cell_type": "code",
   "execution_count": 41,
   "metadata": {},
   "outputs": [
    {
     "data": {
      "text/plain": [
       "(array([2., 1., 4., 5., 2., 1.]),\n",
       " array([  0,  10,  20,  40,  60,  80, 100]),\n",
       " <a list of 6 Patch objects>)"
      ]
     },
     "execution_count": 41,
     "metadata": {},
     "output_type": "execute_result"
    },
    {
     "data": {
      "image/png": "[encoded data removed]",
      "text/plain": [
       "<Figure size 432x288 with 1 Axes>"
      ]
     },
     "metadata": {
      "needs_background": "light"
     },
     "output_type": "display_data"
    }
   ],
   "source": [
    "a = np.array([22,87,5,43,56,73,55,54,11,20,51,5,79,31,27]) \n",
    "plt.hist(a, bins = [0,10,20,40,60,80,100]) "
   ]
  },
  {
   "cell_type": "code",
   "execution_count": 43,
   "metadata": {},
   "outputs": [],
   "source": [
    "a = np.array([1,2,3,4,5]) \n",
    "np.save('outfile',a)# saving a file."
   ]
  },
  {
   "cell_type": "code",
   "execution_count": 44,
   "metadata": {},
   "outputs": [
    {
     "name": "stdout",
     "output_type": "stream",
     "text": [
      "[1 2 3 4 5]\n"
     ]
    }
   ],
   "source": [
    "b = np.load('outfile.npy')\n",
    "print(b)"
   ]
  },
  {
   "cell_type": "code",
   "execution_count": 45,
   "metadata": {},
   "outputs": [
    {
     "name": "stdout",
     "output_type": "stream",
     "text": [
      "[1. 2. 3. 4. 5. 6.]\n"
     ]
    }
   ],
   "source": [
    "a = np.array([1,2,3,4,5,6]) \n",
    "np.savetxt('out.txt',a) \n",
    "b = np.loadtxt('out.txt') \n",
    "print(b) "
   ]
  },
  {
   "cell_type": "code",
   "execution_count": 46,
   "metadata": {},
   "outputs": [
    {
     "name": "stdout",
     "output_type": "stream",
     "text": [
      "[0 1 2 3 4 5 6 7 8 9] [  3   5  11  21  35  53  75 101 131 165]\n"
     ]
    },
    {
     "data": {
      "image/png": "[encoded data removed]",
      "text/plain": [
       "<Figure size 432x288 with 1 Axes>"
      ]
     },
     "metadata": {
      "needs_background": "light"
     },
     "output_type": "display_data"
    }
   ],
   "source": [
    "x = np.arange(10)# parabolic line. \n",
    "y = 2*x**2 + 3\n",
    "print(x,y)\n",
    "\n",
    "plt.plot(x, y)\n",
    "plt.xlabel(\"x\")\n",
    "plt.ylabel(\"y\")\n",
    "plt.show()"
   ]
  },
  {
   "cell_type": "markdown",
   "metadata": {},
   "source": [
    "# 4/29/2019 Example"
   ]
  },
  {
   "cell_type": "code",
   "execution_count": 47,
   "metadata": {},
   "outputs": [
    {
     "name": "stdout",
     "output_type": "stream",
     "text": [
      "5\n",
      "0\n",
      "(array([0, 9], dtype=int64),)\n",
      "(array([3, 5], dtype=int64),)\n"
     ]
    }
   ],
   "source": [
    "x = np.array([0,1,3,5,1,5,3,2,4,0,4,1,2])\n",
    "maxi = np.amax(x)\n",
    "mini = np.amin(x)\n",
    "print(maxi)\n",
    "print(mini)\n",
    "print(np.where(x == mini))\n",
    "print(np.where(x == maxi))\n"
   ]
  },
  {
   "cell_type": "code",
   "execution_count": 48,
   "metadata": {},
   "outputs": [
    {
     "name": "stdout",
     "output_type": "stream",
     "text": [
      "[[ 8 10 12]\n",
      " [14 16 18]]\n",
      "\n",
      " [[ 7 16 27]\n",
      " [40 55 72]]\n",
      "\n",
      " [[-6 -6 -6]\n",
      " [-6 -6 -6]]\n",
      "\n",
      " [[          1         256       19683]\n",
      " [    1048576    48828125 -2118184960]]\n",
      "\n",
      " [1 2 3 4 5 6] [ 7  8  9 10 11 12]\n",
      "\n",
      " [[ 50  68  90]\n",
      " [116 146 180]]\n"
     ]
    }
   ],
   "source": [
    "x = np.array([[1,2,3],[4,5,6]])\n",
    "y = np.array([[7,8,9],[10,11,12]])\n",
    "\n",
    "print(x+y)\n",
    "print(\"\\n\",x*y)\n",
    "print(\"\\n\",x-y)\n",
    "print(\"\\n\",x**y)\n",
    "print(\"\\n\",x.flatten(),\n",
    "      y.flatten())\n",
    "print(\"\\n\",x**2+y**2)"
   ]
  },
  {
   "cell_type": "code",
   "execution_count": null,
   "metadata": {},
   "outputs": [],
   "source": [
    "x = np.arange(-3*np.pi, 3 * np.pi, 0.1) \n",
    "y1 = np.sin(x)\n",
    "y2 = np.cos(x)\n",
    "y3 = np.tan(x)\n",
    "y4 = np.tanh(x)\n",
    "\n",
    "plt.subplot(4,1,1)\n",
    "plt.plot(x,y1)\n",
    "plt.title(\"sine plot\")\n",
    "\n",
    "plt.subplot(4,1,2)\n",
    "plt.plot(x,y2)\n",
    "plt.title(\"cos plot\") \n",
    "\n",
    "plt.subplot(4,1,3)\n",
    "plt.plot(x,y3)\n",
    "plt.title(\"tan plot\")\n",
    "\n",
    "plt.subplot(4,1,4)\n",
    "plt.plot(x, y4)\n",
    "plt.title(\"tanh plot\")\n",
    "\n",
    "plt.show()"
   ]
  },
  {
   "cell_type": "code",
   "execution_count": null,
   "metadata": {},
   "outputs": [],
   "source": [
    "x = np.array([7,7,7])\n",
    "y = np.array([1,1,1])\n",
    "\n",
    "for i in range(7):\n",
    "    z = x - i*y\n",
    "    print(z, end=\" \")\n",
    "    \n",
    "print(\"\\n\")"
   ]
  },
  {
   "cell_type": "code",
   "execution_count": 5,
   "metadata": {},
   "outputs": [
    {
     "name": "stdout",
     "output_type": "stream",
     "text": [
      "9\n",
      "[9 9 9]\n"
     ]
    }
   ],
   "source": [
    "n = int(input())\n",
    "x = np.array([i]*n)\n",
    "print(x)"
   ]
  },
  {
   "cell_type": "code",
   "execution_count": 11,
   "metadata": {},
   "outputs": [
    {
     "name": "stdout",
     "output_type": "stream",
     "text": [
      "9\n",
      "[9 9 9]\n"
     ]
    }
   ],
   "source": [
    "n = int(input())\n",
    "x = np.array([0,0,0])\n",
    "for i in range(3):\n",
    "    x[i]=n\n",
    "print(x)"
   ]
  },
  {
   "cell_type": "markdown",
   "metadata": {},
   "source": [
    "# HW"
   ]
  },
  {
   "cell_type": "code",
   "execution_count": 23,
   "metadata": {},
   "outputs": [
    {
     "name": "stdout",
     "output_type": "stream",
     "text": [
      "3\n",
      "[3 3 3]\n"
     ]
    }
   ],
   "source": [
    "n = int(input())\n",
    "x = np.array([n]*n)\n",
    "print(x)"
   ]
  },
  {
   "cell_type": "code",
   "execution_count": 26,
   "metadata": {},
   "outputs": [
    {
     "name": "stdout",
     "output_type": "stream",
     "text": [
      "4\n",
      "[4 4 4 4]\n"
     ]
    }
   ],
   "source": [
    "n = int(input())\n",
    "x = np.array([n]*n)\n",
    "print(x)"
   ]
  },
  {
   "cell_type": "code",
   "execution_count": 2,
   "metadata": {},
   "outputs": [
    {
     "name": "stdout",
     "output_type": "stream",
     "text": [
      "5\n",
      "[5 5 5 5 5]\n"
     ]
    }
   ],
   "source": [
    "n = int(input())\n",
    "x = np.array([n]*n)\n",
    "print(x)"
   ]
  },
  {
   "cell_type": "code",
   "execution_count": 4,
   "metadata": {},
   "outputs": [
    {
     "name": "stdout",
     "output_type": "stream",
     "text": [
      "100\n",
      "[100 100 100 100 100 100 100 100 100 100 100 100 100 100 100 100 100 100\n",
      " 100 100 100 100 100 100 100 100 100 100 100 100 100 100 100 100 100 100\n",
      " 100 100 100 100 100 100 100 100 100 100 100 100 100 100 100 100 100 100\n",
      " 100 100 100 100 100 100 100 100 100 100 100 100 100 100 100 100 100 100\n",
      " 100 100 100 100 100 100 100 100 100 100 100 100 100 100 100 100 100 100\n",
      " 100 100 100 100 100 100 100 100 100 100]\n"
     ]
    }
   ],
   "source": [
    "n = int(input())\n",
    "x = np.array([n]*n)\n",
    "print(x)"
   ]
  },
  {
   "cell_type": "code",
   "execution_count": null,
   "metadata": {},
   "outputs": [],
   "source": []
  }
 ],
 "metadata": {
  "kernelspec": {
   "display_name": "Python 3",
   "language": "python",
   "name": "python3"
  },
  "language_info": {
   "codemirror_mode": {
    "name": "ipython",
    "version": 3
   },
   "file_extension": ".py",
   "mimetype": "text/x-python",
   "name": "python",
   "nbconvert_exporter": "python",
   "pygments_lexer": "ipython3",
   "version": "3.7.0"
  }
 },
 "nbformat": 4,
 "nbformat_minor": 2
}
